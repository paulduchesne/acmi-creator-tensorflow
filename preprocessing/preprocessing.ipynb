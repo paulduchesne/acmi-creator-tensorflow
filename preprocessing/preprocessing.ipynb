{
 "cells": [
  {
   "cell_type": "code",
   "execution_count": null,
   "metadata": {},
   "outputs": [],
   "source": [
    "# pull all Wikidata directors as ttl.\n",
    "\n",
    "import hashlib\n",
    "import numpy\n",
    "import pandas\n",
    "import pathlib\n",
    "import pydash\n",
    "import rdflib\n",
    "import requests\n",
    "import time\n",
    "import tqdm\n",
    "\n",
    "def value_extract(row, column):\n",
    "\n",
    "    ''' Extract dictionary values. '''\n",
    "    \n",
    "    return pydash.get(row[column], 'value')\n",
    "\n",
    "def sparql_query(query, service):\n",
    "\n",
    "    ''' Send sparql request, and formulate results into a dataframe. '''\n",
    "\n",
    "    response = requests.get(service, params={'format': 'json', 'query': query}, timeout=120)\n",
    "    results = pydash.get(response.json(), 'results.bindings')\n",
    "    df = pandas.DataFrame.from_dict(results)\n",
    "    for column in df.columns:\n",
    "        df[column] = df.apply(value_extract, column=column, axis=1)\n",
    "    \n",
    "    return df\n",
    "\n",
    "query = ''' select distinct ?work ?director where { ?work wdt:P57 ?director . } '''\n",
    "wikidata_director = sparql_query(query, 'https://query.wikidata.org/sparql').drop_duplicates()\n",
    "wikidata_entities = pydash.uniq(list(wikidata_director.director.unique())+list(wikidata_director.work.unique()))\n",
    "\n",
    "for x in tqdm.tqdm(wikidata_entities):\n",
    "    qid = pathlib.Path(x).name\n",
    "    qid_hash = hashlib.md5(qid.encode()).hexdigest()\n",
    "    save_path = pathlib.Path.cwd() / 'data' / 'wikidata' / qid_hash[:2] / f'{qid}.ttl'\n",
    "    if not save_path.exists():\n",
    "        save_path.parents[0].mkdir(parents=True, exist_ok=True)\n",
    "        r = requests.get(f'https://www.wikidata.org/wiki/Special:EntityData/{qid}.ttl?flavor=simple')\n",
    "        if r.status_code == 200:\n",
    "            with open(save_path, 'w') as export:\n",
    "                export.write(r.text)"
   ]
  }
 ],
 "metadata": {
  "kernelspec": {
   "display_name": "Python 3",
   "language": "python",
   "name": "python3"
  },
  "language_info": {
   "codemirror_mode": {
    "name": "ipython",
    "version": 3
   },
   "file_extension": ".py",
   "mimetype": "text/x-python",
   "name": "python",
   "nbconvert_exporter": "python",
   "pygments_lexer": "ipython3",
   "version": "3.9.6"
  },
  "orig_nbformat": 4
 },
 "nbformat": 4,
 "nbformat_minor": 2
}
